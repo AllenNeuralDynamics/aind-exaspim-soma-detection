{
 "cells": [
  {
   "cell_type": "markdown",
   "id": "d7e55d55-510a-4149-880b-d9ac46c1aa47",
   "metadata": {},
   "source": [
    "<div style=\"background-color: darkred; padding: 10px; color: white;\">\n",
    "\n",
    "# Test Soma Classifier\n",
    "\n",
    "</div>"
   ]
  },
  {
   "cell_type": "markdown",
   "id": "2fd0c9b8-a574-43b7-bbac-ab5f9398ee9b",
   "metadata": {},
   "source": [
    "<div style=\"background-color: darkblue; padding: 10px; color: white;\">\n",
    "\n",
    "## Section 1: Load Testing Data\n",
    "    \n",
    "</div>"
   ]
  },
  {
   "cell_type": "markdown",
   "id": "5546e117-a389-4ae1-9c93-3706b0e34db1",
   "metadata": {},
   "source": [
    "### Imports"
   ]
  },
  {
   "cell_type": "code",
   "execution_count": 1,
   "id": "ca0e2386-a2f0-4247-85e3-7adbae74408b",
   "metadata": {},
   "outputs": [
    {
     "name": "stderr",
     "output_type": "stream",
     "text": [
      "\n",
      "KeyboardInterrupt\n",
      "\n"
     ]
    }
   ],
   "source": [
    "from scipy.optimize import OptimizeWarning\n",
    "from tqdm import tqdm\n",
    "\n",
    "import ast\n",
    "import matplotlib.pyplot as plt\n",
    "import numpy as np\n",
    "import os\n",
    "import torch\n",
    "import warnings\n",
    "\n",
    "from aind_exaspim_soma_detection import soma_proposal_classification as spc\n",
    "from aind_exaspim_soma_detection.utils import data_util, img_util, ml_util, util\n",
    "from aind_exaspim_soma_detection.machine_learning import data_handling\n",
    "from aind_exaspim_soma_detection.machine_learning.data_handling import MultiThreadedDataLoader, ProposalDataset\n",
    "\n",
    "warnings.filterwarnings(\"ignore\", category=OptimizeWarning)\n",
    "warnings.filterwarnings(\"ignore\", category=RuntimeWarning)\n",
    "\n",
    "%matplotlib inline"
   ]
  },
  {
   "cell_type": "markdown",
   "id": "e411945f-7145-433f-b113-fc7a1752469c",
   "metadata": {},
   "source": [
    "### Initializations"
   ]
  },
  {
   "cell_type": "code",
   "execution_count": null,
   "id": "fe987667-f096-4a5b-822e-c5104fcf1a13",
   "metadata": {},
   "outputs": [],
   "source": [
    "# Parameters\n",
    "anisotropy = [0.748, 0.748, 1.0]\n",
    "multiscale = 1\n",
    "patch_shape = (102, 102, 102)\n",
    "\n",
    "# Paths\n",
    "img_lookup_path =  \"/root/capsule/data/exaspim_image_prefixes.json\"\n",
    "smartsheet_path = \"/root/capsule/data/Neuron_Reconstructions.xlsx\"\n",
    "exaspim_soma_path = \"/root/capsule/data/exaspim_somas_2024\""
   ]
  },
  {
   "cell_type": "markdown",
   "id": "34d3c7b1-2fc1-42f6-b668-eab7c60d3674",
   "metadata": {},
   "source": [
    "### Load Data"
   ]
  },
  {
   "cell_type": "code",
   "execution_count": null,
   "id": "38f5caa1-54b5-40fb-898f-0fc93d3cb249",
   "metadata": {},
   "outputs": [],
   "source": [
    "# SmartSheet Data\n",
    "smartsheet_data = data_util.fetch_smartsheet_somas(\n",
    "    smartsheet_path,\n",
    "    img_lookup_path,\n",
    "    multiscale,\n",
    ")\n",
    "\n",
    "# ExaSPIM Data\n",
    "exapsim_data = data_util.fetch_exaspim_somas_2024(\n",
    "    exaspim_soma_path,\n",
    "    img_lookup_path,\n",
    "    multiscale,\n",
    ")\n",
    "\n",
    "# Load Additional Examples\n",
    "ignore = data_util.load_examples(\"/root/capsule/data/ignore.txt\")\n",
    "test_positives = data_util.load_examples(\"/root/capsule/data/test_positives.txt\")\n",
    "test_negatives = data_util.load_examples(\"/root/capsule/data/test_negatives.txt\")\n"
   ]
  },
  {
   "cell_type": "markdown",
   "id": "97e9c359-f83c-4bc7-95dc-42054d4c3062",
   "metadata": {},
   "source": [
    "### Create Dataset"
   ]
  },
  {
   "cell_type": "code",
   "execution_count": null,
   "id": "494dca5c-e9df-4a0a-b5a0-0a8dd75085e5",
   "metadata": {},
   "outputs": [],
   "source": [
    "# Initialize Dataset\n",
    "dataset = ProposalDataset(patch_shape)\n",
    "for proposals_tuple in smartsheet_data + exapsim_data:\n",
    "    dataset.ingest_proposals(*proposals_tuple)\n",
    "\n",
    "# Remove Training Examples\n",
    "keys = list(dataset.proposals.keys())\n",
    "test_proposals = set(test_positives + test_negatives)\n",
    "for key in keys:\n",
    "    if key not in test_proposals or key in ignore:\n",
    "        dataset.remove_proposal(key, epsilon=10)\n",
    "\n",
    "# Report Dataset Specs\n",
    "print(\"# Examples:\", len(dataset))\n",
    "print(\"# Positive Examples:\", dataset.n_positives())\n",
    "print(\"# Negative Examples:\", dataset.n_negatives())"
   ]
  },
  {
   "cell_type": "markdown",
   "id": "8706b0ac-11a8-4da2-84ca-efbf2eeb449d",
   "metadata": {},
   "source": [
    "<div style=\"background-color: darkblue; padding: 10px; color: white;\">\n",
    "\n",
    "## Section 2: Run Model\n",
    "    \n",
    "</div>"
   ]
  },
  {
   "cell_type": "code",
   "execution_count": null,
   "id": "18d54fa8-631a-4d21-8347-c00c57b8705e",
   "metadata": {},
   "outputs": [],
   "source": [
    "# Parameters\n",
    "batch_size = 16\n",
    "device = \"cuda\"\n",
    "model_path = \"/root/capsule/results/soma_classifiers_2025-01-11 21:07:42.683209/model_8640_f1=0.93.pth\"\n",
    "\n",
    "# Initializations\n",
    "dataloader = MultiThreadedDataLoader(dataset, batch_size)\n",
    "model = spc.load_model(model_path, patch_shape, device)\n",
    "\n",
    "# Main\n",
    "total = len(dataset) // batch_size\n",
    "keys, y, hat_y = list(), list(), list()\n",
    "with torch.no_grad():\n",
    "    for keys_i, x_i, y_i in tqdm(dataloader, total=total):\n",
    "        # Forward pass\n",
    "        x_i = x_i.to(device)\n",
    "        hat_y_i = torch.sigmoid(model(x_i))\n",
    "\n",
    "        # Store prediction\n",
    "        keys.extend(keys_i)\n",
    "        y.append(np.array(y_i))\n",
    "        hat_y.append(np.array(hat_y_i.detach().cpu()))\n",
    "\n",
    "# Reformat predictions\n",
    "hat_y = np.vstack(hat_y)[:, 0]\n",
    "y = np.vstack(y)[:, 0]"
   ]
  },
  {
   "cell_type": "markdown",
   "id": "3da00283-d21b-48a4-a30f-9f0f9cbc011d",
   "metadata": {},
   "source": [
    "### Visualize Predictions"
   ]
  },
  {
   "cell_type": "code",
   "execution_count": null,
   "id": "28dbcc5a-7505-49ac-a934-e12f99e14ec8",
   "metadata": {},
   "outputs": [],
   "source": [
    "# Distribution of all predictions\n",
    "plt.figure(figsize=(10, 5))\n",
    "plt.hist(hat_y, alpha=0.9, bins=30, color=\"tab:blue\", edgecolor='black')\n",
    "plt.title('Distribution of Predictions')\n",
    "plt.xlabel('Prediction')\n",
    "plt.ylabel('Count')\n",
    "plt.show()"
   ]
  },
  {
   "cell_type": "code",
   "execution_count": null,
   "id": "665decbc-ed6a-4b85-9a04-3c21694b898c",
   "metadata": {},
   "outputs": [],
   "source": [
    "# Extract positives and negatives\n",
    "hat_y_positives = np.array([hat_y_i for i, hat_y_i in enumerate(hat_y) if y[i] == 1])\n",
    "hat_y_negatives = np.array([hat_y_i for i, hat_y_i in enumerate(hat_y) if y[i] == 0])\n",
    "\n",
    "# Distribution of positives vs. negatives\n",
    "plt.figure(figsize=(10, 5))\n",
    "plt.hist(hat_y_positives, alpha=0.9, bins=30, color=\"tab:blue\", edgecolor='black', label=\"Positives\")\n",
    "plt.hist(hat_y_negatives, alpha=0.9, bins=30, color=\"tab:orange\", edgecolor='black', label=\"Negatives\")\n",
    "plt.title('Distribution of Postive vs. Negative Predictions', fontsize=14)\n",
    "plt.xlabel('Predictions', fontsize=13)\n",
    "plt.ylabel('Counts', fontsize=13)\n",
    "plt.legend(fontsize=11)\n",
    "plt.grid(True)\n",
    "plt.show()"
   ]
  },
  {
   "cell_type": "markdown",
   "id": "9887390a-eac8-40cd-b700-6db1a7ccf898",
   "metadata": {},
   "source": [
    "<div style=\"background-color: darkblue; padding: 10px; color: white;\">\n",
    "\n",
    "## Section 3: Quantitative Results\n",
    "    \n",
    "</div>"
   ]
  },
  {
   "cell_type": "markdown",
   "id": "cf51813a-97f1-47ae-b540-5c22562b2471",
   "metadata": {},
   "source": [
    "### Subroutines"
   ]
  },
  {
   "cell_type": "code",
   "execution_count": null,
   "id": "2e886f02-882e-40d5-aae3-741e7fe6c41c",
   "metadata": {},
   "outputs": [],
   "source": [
    "def get_incorrect(keys, y, hat_y, threshold):\n",
    "    # Extract incorrect\n",
    "    hat_y = (hat_y > threshold).astype(int)\n",
    "    incorrect = {\"false_negatives\": list(), \"false_positives\": list()}\n",
    "    for i, (y_i, hat_y_i) in enumerate(zip(y, hat_y)):\n",
    "        if y_i == 1 and hat_y_i == 0:\n",
    "            incorrect[\"false_negatives\"].append(keys[i])\n",
    "        elif y_i == 0 and hat_y_i == 1:\n",
    "            incorrect[\"false_positives\"].append(keys[i])\n",
    "\n",
    "    # Report results\n",
    "    n_false_negatives = len(incorrect[\"false_negatives\"])\n",
    "    n_false_positives = len(incorrect[\"false_positives\"])\n",
    "    print(f\"# False Positives: {n_false_positives}\")\n",
    "    print(f\"# False Negatives: {n_false_negatives}\")\n",
    "    return incorrect\n",
    "\n",
    "\n",
    "def get_correct(keys, y, hat_y, threshold):\n",
    "    # Extract incorrect\n",
    "    hat_y = (hat_y > threshold).astype(int)\n",
    "    correct = {\"true_negatives\": list(), \"true_positives\": list()}\n",
    "    for i, (y_i, hat_y_i) in enumerate(zip(y, hat_y)):\n",
    "        if y_i == 0 and hat_y_i == 0:\n",
    "            correct[\"true_negatives\"].append(keys[i])\n",
    "        elif y_i == 1 and hat_y_i == 1:\n",
    "            correct[\"true_positives\"].append(keys[i])\n",
    "\n",
    "    # Report results\n",
    "    n_true_negatives = len(correct[\"true_negatives\"])\n",
    "    n_true_positives = len(correct[\"true_positives\"])\n",
    "    print(f\"# True Positives: {n_true_positives}\")\n",
    "    print(f\"# True Negatives: {n_true_negatives}\")\n",
    "    return correct\n"
   ]
  },
  {
   "cell_type": "markdown",
   "id": "63e6a244-81d4-4358-bbda-77e84065576b",
   "metadata": {},
   "source": [
    "### Compute Performance Metrics"
   ]
  },
  {
   "cell_type": "code",
   "execution_count": null,
   "id": "f0f09ce6-2a64-43a6-acbd-5ebd9c7a6978",
   "metadata": {},
   "outputs": [],
   "source": [
    "# Parameters\n",
    "confidence_threshold = 0.3\n",
    "\n",
    "# Reformat predictions\n",
    "y = np.vstack(y)\n",
    "hat_y = np.vstack(hat_y)\n",
    "\n",
    "# Results\n",
    "ml_util.report_metrics(y, hat_y, confidence_threshold)\n",
    "correct = get_correct(keys, y, hat_y, confidence_threshold)\n",
    "incorrect = get_incorrect(keys, y, hat_y, confidence_threshold)\n"
   ]
  },
  {
   "cell_type": "markdown",
   "id": "8c73ede8-c4a7-4983-b4f2-35ddadaf31ee",
   "metadata": {},
   "source": [
    "### Visualize Correct Predictions"
   ]
  },
  {
   "cell_type": "code",
   "execution_count": null,
   "id": "dd3d3587-a8e8-452f-a536-5879eca017ef",
   "metadata": {},
   "outputs": [],
   "source": [
    "key = util.sample_once(correct[\"true_positives\"])\n",
    "print(\"Example ID:\", key)\n",
    "dataset.visualize_proposal(key)"
   ]
  },
  {
   "cell_type": "markdown",
   "id": "70af7f8c-8bf4-491f-929c-20f033da4f6d",
   "metadata": {},
   "source": [
    "### Visualize Incorrect Predictions"
   ]
  },
  {
   "cell_type": "code",
   "execution_count": null,
   "id": "327c5555-7d06-4179-a879-8b72bf9de480",
   "metadata": {},
   "outputs": [],
   "source": [
    "key = incorrect[\"false_negatives\"][18]  #util.sample_once(incorrect[\"false_negatives\"])\n",
    "print(\"Example ID:\", key)\n",
    "dataset.visualize_proposal(key)"
   ]
  },
  {
   "cell_type": "code",
   "execution_count": null,
   "id": "5db652bc-83cb-4b54-80f2-c5baf950eb6c",
   "metadata": {},
   "outputs": [],
   "source": []
  },
  {
   "cell_type": "code",
   "execution_count": null,
   "id": "0ed90f38-2221-4aff-bbd3-7aefaf3c0ac1",
   "metadata": {},
   "outputs": [],
   "source": []
  }
 ],
 "metadata": {
  "kernelspec": {
   "display_name": "Python 3 (ipykernel)",
   "language": "python",
   "name": "python3"
  },
  "language_info": {
   "codemirror_mode": {
    "name": "ipython",
    "version": 3
   },
   "file_extension": ".py",
   "mimetype": "text/x-python",
   "name": "python",
   "nbconvert_exporter": "python",
   "pygments_lexer": "ipython3",
   "version": "3.8.5"
  }
 },
 "nbformat": 4,
 "nbformat_minor": 5
}
