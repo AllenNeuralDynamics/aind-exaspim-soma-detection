{
 "cells": [
  {
   "cell_type": "markdown",
   "id": "687db26c-6819-44f7-9693-04fd2846326c",
   "metadata": {},
   "source": [
    "<div style=\"background-color: darkred; padding: 10px; color: white;\">\n",
    "\n",
    "# Soma Proposal Generation \n",
    "\n",
    "</div>"
   ]
  },
  {
   "cell_type": "markdown",
   "id": "3c3155d8-806d-4f16-a236-5eea3a0f1c79",
   "metadata": {},
   "source": [
    "<div style=\"background-color: darkblue; padding: 10px; color: white;\">\n",
    "\n",
    "## Section 1: Proposal Generation in a Single Image Patch\n",
    "\n",
    "<div style=\"font-size: 17px;\">\n",
    "    In this section, we provide an overview of the main routines used to generate soma proposals within a single image patch. The proposal generation process follows the algorithm outlined below:\n",
    "    <br><br>\n",
    "\n",
    "<pre style=\"background-color: darkblue; color: white; font-family: monospace;\">\n",
    "    Soma Proposal Generation Algorithm\n",
    "        1. Detect initial proposals - detect_blobs()\n",
    "            a. Smooth image with Gaussian filter to reduce false positives.\n",
    "            b. Laplacian of Gaussian (LoG) to enhance regions where the\n",
    "               intensity changes dramatically (i.e. higher gradient), then\n",
    "               apply a non-linear maximum filter.\n",
    "            c. Generate initial set of proposals by detecting local maximas\n",
    "    \t       that lie outside of the image margins.\n",
    "            d. Shift each proposal to the brightest voxel in its neighborhood.\n",
    "               If the brightness is below a threshold, reject the proposal.\n",
    "\n",
    "        2. Filter proposals - filter_proposals()\n",
    "            a. Fit Gaussian to neighborhood centered at proposal.\n",
    "    \t    b. Compute closeness of fit by comparing fitted Gaussian and image\n",
    "               values.\n",
    "    \t    c. Proposals are discarded if (1) fitness is below a threshold or\n",
    "               (2) standard deviation of Gaussian is out of range.\n",
    "\n",
    "               \n",
    "</pre>\n",
    "</div>\n",
    "</div>"
   ]
  },
  {
   "cell_type": "markdown",
   "id": "b40fd8eb-375d-4848-89b8-6136021f7fe8",
   "metadata": {},
   "source": [
    "### Imports\n"
   ]
  },
  {
   "cell_type": "code",
   "execution_count": 1,
   "id": "a5a8476f-97de-477a-aee0-fb2627084bf8",
   "metadata": {},
   "outputs": [],
   "source": [
    "import matplotlib.pyplot as plt\n",
    "import numpy as np\n",
    "\n",
    "from random import sample\n",
    "from skimage.feature import peak_local_max\n",
    "from scipy.ndimage import gaussian_filter, gaussian_laplace, maximum_filter\n",
    "from scipy.optimize import curve_fit\n",
    "from scipy.spatial import KDTree\n",
    "from time import time\n",
    "from tifffile import imwrite\n",
    "\n",
    "from aind_exaspim_soma_detection import soma_proposal_generation as spg\n",
    "from aind_exaspim_soma_detection.utils import img_util, util\n",
    "\n",
    "%matplotlib inline\n"
   ]
  },
  {
   "cell_type": "markdown",
   "id": "20cf6e27-e6a0-4929-8581-3f2d1cd70188",
   "metadata": {},
   "source": [
    "### Subroutines"
   ]
  },
  {
   "cell_type": "code",
   "execution_count": 2,
   "id": "37fba120-95c9-41cf-b131-ddd4015d2efa",
   "metadata": {},
   "outputs": [],
   "source": [
    "def detect_blobs(img_patch, bright_threshold, LoG_sigma, margin):\n",
    "    # Preprocess image\n",
    "    LoG = gaussian_laplace(\n",
    "        gaussian_filter(img_patch, sigma=0.5), LoG_sigma\n",
    "    )\n",
    "\n",
    "    # Detect local maximas\n",
    "    peaks = list()\n",
    "    for peak in peak_local_max(maximum_filter(LoG, 5), min_distance=5):\n",
    "        peak = tuple([int(x) for x in peak])\n",
    "        is_inbounds = spg.is_inbounds(img_patch.shape, peak, margin)\n",
    "        if LoG[peak] > 0 and is_inbounds:\n",
    "            peaks.append(peak)\n",
    "    return spg.shift_to_brightest(img_patch, peaks, bright_threshold), LoG\n",
    "\n",
    "\n",
    "def filter_proposals(img_patch, proposals, radius=5):\n",
    "    # Main\n",
    "    filtered_proposals = list()\n",
    "    discared_proposals = list()\n",
    "    for proposal in proposals:\n",
    "        # Fit Gaussian\n",
    "        proposal = tuple(map(int, proposal))\n",
    "        fit, params = spg.gaussian_fitness(img_patch, proposal, radius)\n",
    "        mean, std = params[0:3], params[3:6]\n",
    "\n",
    "        # Check whether to filter\n",
    "        feasible_range = all(std > 0.4) and all(std < 10)\n",
    "        if fit > 0.8 and (feasible_range and np.mean(std) > 0.65):\n",
    "            print(\"Accept:\", img_patch[proposal], fit, std, np.mean(std))\n",
    "            proposal = [proposal[i] + mean[i] - radius for i in range(3)]\n",
    "            filtered_proposals.append(proposal)\n",
    "        else:\n",
    "            print(\"Reject:\", img_patch[proposal], fit, std, np.mean(std))\n",
    "            discared_proposals.append(proposal)\n",
    "    return filtered_proposals, discared_proposals\n",
    "\n",
    "\n",
    "def get_detections_img(shape, voxels):\n",
    "    detections_img = np.zeros(shape)\n",
    "    for voxel in voxels:\n",
    "        voxel = tuple([int(v) for v in voxel])\n",
    "        detections_img = img_util.mark_voxel(detections_img, voxel)\n",
    "    return detections_img\n"
   ]
  },
  {
   "cell_type": "markdown",
   "id": "81b5d53f-e784-4763-b5c6-b99d64d3c236",
   "metadata": {},
   "source": [
    "### Initializations"
   ]
  },
  {
   "cell_type": "code",
   "execution_count": 3,
   "id": "cfbdd0c0-f453-4b00-a46b-e3cb3f521ddd",
   "metadata": {},
   "outputs": [
    {
     "name": "stdout",
     "output_type": "stream",
     "text": [
      "Image Shape: (1, 1, 1799, 1796, 3893)\n"
     ]
    }
   ],
   "source": [
    "# Parameters\n",
    "bucket_name = \"aind-open-data\"\n",
    "brain_id = \"719654\"\n",
    "multiscale = 4\n",
    "\n",
    "bright_threshold = 1\n",
    "LoG_sigma = 5\n",
    "d = 16  # image margin\n",
    "\n",
    "# Open img\n",
    "prefix_lookup = util.read_json(\"/root/capsule/data/exaspim_image_prefixes.json\")\n",
    "img = img_util.open_img(prefix_lookup[brain_id] + str(multiscale))\n",
    "print(\"Image Shape:\", img.shape)\n"
   ]
  },
  {
   "cell_type": "markdown",
   "id": "4df7ce41-9d9d-426e-a590-0596c888b0ad",
   "metadata": {},
   "source": [
    "### Main"
   ]
  },
  {
   "cell_type": "code",
   "execution_count": 4,
   "id": "67da1cb5-3033-45f5-88cb-ca678808b91f",
   "metadata": {
    "tags": []
   },
   "outputs": [
    {
     "name": "stdout",
     "output_type": "stream",
     "text": [
      "Accept: 4050 0.8849263233914128 [1.56386215 1.2593719  1.56858278] 1.463938945139051\n",
      "\n",
      "# Proposals: 1\n",
      "# Rejects: 0\n",
      "Runtime: 0.10084128379821777\n"
     ]
    },
    {
     "data": {
      "image/png": "[encoded data removed]",
      "text/plain": [
       "<Figure size 1000x400 with 3 Axes>"
      ]
     },
     "metadata": {},
     "output_type": "display_data"
    },
    {
     "data": {
      "image/png": "[encoded data removed]",
      "text/plain": [
       "<Figure size 1000x400 with 3 Axes>"
      ]
     },
     "metadata": {},
     "output_type": "display_data"
    },
    {
     "name": "stderr",
     "output_type": "stream",
     "text": [
      "/root/capsule/code/aind-exaspim-soma-detection/src/aind_exaspim_soma_detection/utils/img_util.py:155: RuntimeWarning: invalid value encountered in divide\n",
      "  img = (2**16 - 1) * (img / np.max(img))\n",
      "/root/capsule/code/aind-exaspim-soma-detection/src/aind_exaspim_soma_detection/utils/img_util.py:156: RuntimeWarning: invalid value encountered in cast\n",
      "  return (img).astype(np.uint16)\n"
     ]
    },
    {
     "data": {
      "image/png": "[encoded data removed]",
      "text/plain": [
       "<Figure size 1000x400 with 3 Axes>"
      ]
     },
     "metadata": {},
     "output_type": "display_data"
    },
    {
     "data": {
      "image/png": "[encoded data removed]",
      "text/plain": [
       "<Figure size 1000x400 with 3 Axes>"
      ]
     },
     "metadata": {},
     "output_type": "display_data"
    }
   ],
   "source": [
    "# Region of interest\n",
    "xyz = [10331.349,14920.623,10028.0]\n",
    "shape = [64, 64, 64]\n",
    "\n",
    "# Read image patch\n",
    "voxel = img_util.to_voxels(xyz, multiscale=multiscale)\n",
    "img_patch = spg.get_patch(img, voxel, shape, from_center=True)\n",
    "\n",
    "# Proposal generation\n",
    "t0 = time()\n",
    "proposals, LoG_img_patch = detect_blobs(img_patch, bright_threshold, LoG_sigma, d)\n",
    "proposals, rejects = filter_proposals(img_patch, proposals, radius=5)\n",
    "\n",
    "print(\"\\n# Proposals:\", len(proposals))\n",
    "print(\"# Rejects:\", len(rejects))\n",
    "print(\"Runtime:\", time() - t0)\n",
    "\n",
    "# Visualize Results\n",
    "proposals_img = get_detections_img(img_patch.shape, proposals)\n",
    "rejects_img = get_detections_img(img_patch.shape, rejects)\n",
    "\n",
    "img_util.plot_mips(img_patch[d:-d, d:-d, d:-d], clip_bool=True)\n",
    "img_util.plot_mips(proposals_img[d:-d, d:-d, d:-d])\n",
    "img_util.plot_mips(rejects_img[d:-d, d:-d, d:-d])\n",
    "img_util.plot_mips(LoG_img_patch[d:-d, d:-d, d:-d])\n",
    "\n",
    "# Save Results\n",
    "#imwrite(\"img_patch.tiff\", img_patch[d:-d, d:-d, d:-d])\n",
    "#imwrite(\"proposals.tiff\", proposals_img[d:-d, d:-d, d:-d])\n",
    "#imwrite(\"rejects.tiff\", rejects_img[d:-d, d:-d, d:-d])"
   ]
  },
  {
   "cell_type": "markdown",
   "id": "88815dd1-abc7-48c9-9ee8-a48c63280a6d",
   "metadata": {},
   "source": [
    "### Visualize Gaussian Fit"
   ]
  },
  {
   "cell_type": "code",
   "execution_count": 5,
   "id": "c008fc6d-814d-48c5-aaec-d2bbddac4353",
   "metadata": {},
   "outputs": [
    {
     "name": "stdout",
     "output_type": "stream",
     "text": [
      "Fitness Score: 0.8855805429178072\n",
      "Parameters: [5.59314302e+00 5.50537510e+00 5.79365731e+00 1.56933269e+00\n",
      " 1.26259615e+00 1.57242499e+00 4.91531689e+03 1.33486868e+02]\n"
     ]
    },
    {
     "data": {
      "image/png": "[encoded data removed]",
      "text/plain": [
       "<Figure size 1300x500 with 2 Axes>"
      ]
     },
     "metadata": {},
     "output_type": "display_data"
    }
   ],
   "source": [
    "# Parameters\n",
    "margin = 16\n",
    "radius = 5\n",
    "\n",
    "# Get valid center\n",
    "while True:\n",
    "    center = sample(proposals + rejects, 1)[0]\n",
    "    if spg.is_inbounds(img_patch.shape, center, margin=margin):\n",
    "        break\n",
    "\n",
    "# Get patch from img\n",
    "x0, y0, z0 = tuple(map(int, center))\n",
    "x_min, x_max = max(0, x0 - radius), min(img_patch.shape[0], x0 + radius + 1)\n",
    "y_min, y_max = max(0, y0 - radius), min(img_patch.shape[1], y0 + radius + 1)\n",
    "z_min, z_max = max(0, z0 - radius), min(img_patch.shape[2], z0 + radius + 1)\n",
    "subpatch = img_patch[x_min:x_max, y_min:y_max, z_min:z_max]\n",
    "img_vals = subpatch.ravel()\n",
    "\n",
    "# Generate coordinates\n",
    "xyz = [np.linspace(0, subpatch.shape[i], subpatch.shape[i]) for i in range(3)]\n",
    "x, y, z = np.meshgrid(xyz[0], xyz[1], xyz[2], indexing='ij')\n",
    "xyz = (x.ravel(), y.ravel(), z.ravel())\n",
    "\n",
    "# Fit Gaussian\n",
    "try:\n",
    "    shape = subpatch.shape\n",
    "    x0, y0, z0 = shape[0] // 2, shape[1] // 2, shape[2] // 2\n",
    "    p0 = (x0, y0, z0, 2, 2, 2, np.max(subpatch), np.min(subpatch))\n",
    "    params, _ = curve_fit(spg.gaussian_3d, xyz, img_vals, p0=p0)\n",
    "except RuntimeError:\n",
    "    pass\n",
    "\n",
    "# Fitness quality\n",
    "fitness_score = spg.fitness_quality(subpatch, xyz, params)\n",
    "print(\"Fitness Score:\", fitness_score)\n",
    "print(\"Parameters:\", params)\n",
    "\n",
    "# Visualize image patch\n",
    "fig, axs = plt.subplots(1, 2, figsize=(13, 5))\n",
    "axs[0].imshow(subpatch[:, :, z0], cmap='viridis', origin='lower')\n",
    "axs[0].set_title(\"Original Image (Z slice)\")\n",
    "\n",
    "# Visualize fitted gaussian\n",
    "if params is not None:\n",
    "    fitted_blob = spg.gaussian_3d((x, y, z), *params).reshape(x.shape)\n",
    "    axs[1].imshow(fitted_blob[:, :, z0], cmap='viridis', origin='lower')\n",
    "    axs[1].set_title(\"Fitted Gaussian (Z slice)\")\n"
   ]
  },
  {
   "cell_type": "code",
   "execution_count": 6,
   "id": "8d84075e-3c9c-48d1-9d95-c1a1a1d285fc",
   "metadata": {},
   "outputs": [
    {
     "ename": "NameError",
     "evalue": "name 'stop' is not defined",
     "output_type": "error",
     "traceback": [
      "\u001b[0;31m---------------------------------------------------------------------------\u001b[0m",
      "\u001b[0;31mNameError\u001b[0m                                 Traceback (most recent call last)",
      "Cell \u001b[0;32mIn[6], line 1\u001b[0m\n\u001b[0;32m----> 1\u001b[0m \u001b[43mstop\u001b[49m\n",
      "\u001b[0;31mNameError\u001b[0m: name 'stop' is not defined"
     ]
    }
   ],
   "source": [
    "stop"
   ]
  },
  {
   "cell_type": "markdown",
   "id": "212f6e2f-27bd-4e99-b4a7-4855e5b815f9",
   "metadata": {},
   "source": [
    "<div style=\"background-color: darkblue; padding: 10px; color: white;\">\n",
    "\n",
    "## Section 2: Proposal Generation in Whole Brain\n",
    "\n",
    "<div style=\"font-size: 17px;\">\n",
    "    In this section, we provide an overview of the main routines used to generate soma proposals on the scale of a whole brain.\n",
    "\n",
    "</div>"
   ]
  },
  {
   "cell_type": "markdown",
   "id": "ede1687d-77a2-420e-ae35-31b16e4c3c66",
   "metadata": {},
   "source": [
    "### Imports"
   ]
  },
  {
   "cell_type": "code",
   "execution_count": null,
   "id": "49c39305-bb82-403c-8382-b4253497f0a6",
   "metadata": {},
   "outputs": [],
   "source": [
    "from concurrent.futures import ThreadPoolExecutor, as_completed\n",
    "from tqdm import tqdm"
   ]
  },
  {
   "cell_type": "markdown",
   "id": "7a23c5f6-0c51-4121-a9d6-c6e8c55a4fa3",
   "metadata": {},
   "source": [
    "### Main"
   ]
  },
  {
   "cell_type": "code",
   "execution_count": null,
   "id": "310c27a4-bdec-47c2-8f2b-46973e6746cd",
   "metadata": {},
   "outputs": [],
   "source": [
    "# Parameters\n",
    "margin = 16\n",
    "overlap = (36, 36, 36)\n",
    "patch_shape = (128, 128, 128)\n",
    "\n",
    "bright_threshold = 200\n",
    "LoG_sigma = 6\n",
    "save_results = False\n",
    "\n",
    "# Initializations\n",
    "output_dir = \"/root/capsule/results/soma_proposals\"\n",
    "offsets = img_util.sliding_window_coords_3d(img, patch_shape, overlap)\n",
    "print(\"# Image Patches:\", len(offsets))\n",
    "\n",
    "# Proposal generation\n",
    "t0 = time()\n",
    "with ThreadPoolExecutor() as executor:\n",
    "    # Assign threads\n",
    "    threads = list()\n",
    "    for offset in offsets[0:1000]:\n",
    "        threads.append(\n",
    "            executor.submit(\n",
    "                spg.generate_proposals,\n",
    "                img,\n",
    "                offset,\n",
    "                margin,\n",
    "                patch_shape,\n",
    "                multiscale,\n",
    "                bright_threshold,\n",
    "                LoG_sigma,\n",
    "            )\n",
    "        )\n",
    "\n",
    "    # Process results\n",
    "    proposals = list()\n",
    "    pbar = tqdm(total=len(threads))\n",
    "    for thread in as_completed(threads):\n",
    "        proposals.extend(thread.result())\n",
    "        pbar.update(1)\n",
    "\n",
    "# Global filtering\n",
    "proposals = spg.global_filtering(proposals)\n",
    "print(\"# Proposals Generated:\", len(proposals))\n",
    "print(\"Runtime:\", time() - t0)\n",
    "\n",
    "# Save results (if applicable)\n",
    "if save_results:\n",
    "    util.mkdir(output_dir, delete=True)\n",
    "    util.write_points(output_dir, proposals, color=\"0.0 0.0 1.0\", prefix=\"proposal_\")"
   ]
  },
  {
   "cell_type": "code",
   "execution_count": null,
   "id": "270c677e-a9e3-4d04-ba64-321462f54d19",
   "metadata": {},
   "outputs": [],
   "source": []
  }
 ],
 "metadata": {
  "environment": {
   "kernel": "python3",
   "name": ".m120",
   "type": "gcloud",
   "uri": "us-docker.pkg.dev/deeplearning-platform-release/gcr.io/:m120"
  },
  "kernelspec": {
   "display_name": "Python 3 (ipykernel)",
   "language": "python",
   "name": "python3"
  },
  "language_info": {
   "codemirror_mode": {
    "name": "ipython",
    "version": 3
   },
   "file_extension": ".py",
   "mimetype": "text/x-python",
   "name": "python",
   "nbconvert_exporter": "python",
   "pygments_lexer": "ipython3",
   "version": "3.8.5"
  }
 },
 "nbformat": 4,
 "nbformat_minor": 5
}
